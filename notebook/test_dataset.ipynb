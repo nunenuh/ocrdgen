{
 "cells": [
  {
   "cell_type": "code",
   "execution_count": 22,
   "metadata": {},
   "outputs": [
    {
     "name": "stdout",
     "output_type": "stream",
     "text": [
      "The autoreload extension is already loaded. To reload it, use:\n",
      "  %reload_ext autoreload\n"
     ]
    }
   ],
   "source": [
    "%load_ext autoreload\n",
    "%autoreload 2\n",
    "%matplotlib inline"
   ]
  },
  {
   "cell_type": "code",
   "execution_count": 33,
   "metadata": {},
   "outputs": [],
   "source": [
    "from ocrdgen.data.datasets import *\n",
    "from ocrdgen.data import datasets"
   ]
  },
  {
   "cell_type": "code",
   "execution_count": 34,
   "metadata": {},
   "outputs": [],
   "source": [
    "filepath = 'data/example/idcard/text/idcard_100k_1606406736.csv'\n",
    "face_dir = 'data/example/idcard/face'\n",
    "dset = datasets.IDCardDataset(filepath, face_dir=face_dir)"
   ]
  },
  {
   "cell_type": "code",
   "execution_count": 42,
   "metadata": {},
   "outputs": [
    {
     "data": {
      "text/plain": [
       "{'provinsi': 'PROVINSI JAWA TENGAH',\n",
       " 'kabupaten': 'KABUPATEN MAGELANG',\n",
       " 'nik': 3308020406990305,\n",
       " 'nama': 'EMILIANA PRADIPTA MONETERYA',\n",
       " 'ttl': 'MAGELANG, 04-06-1999',\n",
       " 'gender': 'PEREMPUAN',\n",
       " 'goldar': 'O',\n",
       " 'alamat': 'JL.  RAYA LEGIAN 139',\n",
       " 'rtrw': '014/011',\n",
       " 'kelurahan': 'BIGARAN',\n",
       " 'kecamatan': 'BOROBUDUR',\n",
       " 'agama': 'ISLAM',\n",
       " 'perkawinan': 'CERAI MATI',\n",
       " 'pekerjaan': 'PETANI/PEKEBUN',\n",
       " 'kewarganegaraan': 'WNI',\n",
       " 'berlaku': 'SEUMUR HIDUP',\n",
       " 'sign_place': 'MAGELANG',\n",
       " 'sign_date': '01-12-2015',\n",
       " 'photo': 'data/example/idcard/face/female/3.png'}"
      ]
     },
     "execution_count": 42,
     "metadata": {},
     "output_type": "execute_result"
    }
   ],
   "source": [
    "dset[0]"
   ]
  }
 ],
 "metadata": {
  "interpreter": {
   "hash": "dd79f9a351676d0ac8c6bea17b520715469290c3274c213c3e256b78a5fd1a23"
  },
  "kernelspec": {
   "display_name": "Python 3.8.8 ('venv': venv)",
   "language": "python",
   "name": "python3"
  },
  "language_info": {
   "codemirror_mode": {
    "name": "ipython",
    "version": 3
   },
   "file_extension": ".py",
   "mimetype": "text/x-python",
   "name": "python",
   "nbconvert_exporter": "python",
   "pygments_lexer": "ipython3",
   "version": "3.8.8"
  },
  "orig_nbformat": 4
 },
 "nbformat": 4,
 "nbformat_minor": 2
}
