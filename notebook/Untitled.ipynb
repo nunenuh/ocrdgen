{
 "cells": [
  {
   "cell_type": "code",
   "execution_count": 18,
   "id": "a235e232-b84f-4b6f-a53d-c4897ba66e7d",
   "metadata": {},
   "outputs": [
    {
     "name": "stdout",
     "output_type": "stream",
     "text": [
      "The autoreload extension is already loaded. To reload it, use:\n",
      "  %reload_ext autoreload\n"
     ]
    }
   ],
   "source": [
    "%load_ext autoreload\n",
    "%autoreload 2\n",
    "%matplotlib inline"
   ]
  },
  {
   "cell_type": "code",
   "execution_count": 1,
   "id": "6ea11856-0122-4ff8-8982-a0aa4ef97ce9",
   "metadata": {},
   "outputs": [],
   "source": [
    "from ocrdgen.imgen.ops import imtext_ops"
   ]
  },
  {
   "cell_type": "code",
   "execution_count": 2,
   "id": "0afc1f2f-1530-4e3e-bb6b-41178c01a289",
   "metadata": {},
   "outputs": [],
   "source": [
    "import numpy as np\n",
    "from PIL import Image\n",
    "import matplotlib.pyplot as plt"
   ]
  },
  {
   "cell_type": "code",
   "execution_count": 3,
   "id": "1de65d00-9386-4309-a9e3-52e9e4251809",
   "metadata": {},
   "outputs": [],
   "source": [
    "black_image = np.ones((250,250,3), 'uint8') * 255\n",
    "img = Image.fromarray(black_image)"
   ]
  },
  {
   "cell_type": "code",
   "execution_count": 4,
   "id": "1d8bfd8d-aa17-4509-9795-44d03c89a642",
   "metadata": {},
   "outputs": [
    {
     "data": {
      "text/plain": [
       "(250, 250, 3)"
      ]
     },
     "execution_count": 4,
     "metadata": {},
     "output_type": "execute_result"
    }
   ],
   "source": [
    "black_image.shape"
   ]
  },
  {
   "cell_type": "code",
   "execution_count": 5,
   "id": "fd97c0aa-bcc0-48ff-8714-fe522921d78f",
   "metadata": {},
   "outputs": [],
   "source": [
    "res = imtext_ops.draw_text_normal(black_image, 'Test', (100,100), img_mode=\"RGB\")"
   ]
  },
  {
   "cell_type": "code",
   "execution_count": 6,
   "id": "7251b73f-e139-43e8-9711-c6de1f1870ad",
   "metadata": {},
   "outputs": [
    {
     "data": {
      "text/plain": [
       "<matplotlib.image.AxesImage at 0x7f8a09eeddf0>"
      ]
     },
     "execution_count": 6,
     "metadata": {},
     "output_type": "execute_result"
    },
    {
     "data": {
      "image/png": "[encoded data removed]",
      "text/plain": [
       "<Figure size 432x288 with 1 Axes>"
      ]
     },
     "metadata": {
      "needs_background": "light"
     },
     "output_type": "display_data"
    }
   ],
   "source": [
    "plt.imshow(res)"
   ]
  },
  {
   "cell_type": "code",
   "execution_count": 13,
   "id": "3df8dc27-f3ff-4ca6-8b39-65bf39da42ce",
   "metadata": {},
   "outputs": [],
   "source": [
    "from typing import *\n",
    "import numpy as np\n",
    "from ocrdgen.ops import boxes_ops\n",
    "from dataclasses import dataclass\n",
    "\n",
    "#types\n",
    "Point = Tuple[int,int]\n",
    "\n",
    "@dataclass\n",
    "class BBox:\n",
    "    x: int\n",
    "    y: int\n",
    "    w: int\n",
    "    h: int\n",
    "    \n",
    "    @property\n",
    "    def xmin(self)->int:\n",
    "        return int(self.x)\n",
    "\n",
    "    @property\n",
    "    def ymin(self)->int:\n",
    "        return int(self.y)\n",
    "\n",
    "    @property\n",
    "    def xmax(self)->int:\n",
    "        return int(self.x + self.w)\n",
    "    \n",
    "    @property\n",
    "    def ymax(self)->int:\n",
    "        return int(self.y + self.h)\n",
    "    \n",
    "    @property\n",
    "    def width(self):\n",
    "        return self.w\n",
    "    \n",
    "    @property\n",
    "    def height(self):\n",
    "        return self.h\n",
    "    \n",
    "    @property\n",
    "    def size(self):\n",
    "        return self.width, self.height\n",
    "    \n",
    "    def to_coordinate(self)->np.ndarray:\n",
    "        xywh = self.x, self.y, self.w, self.h\n",
    "        coord = boxes_ops.xywh_to_coord(xywh)\n",
    "        return coord\n",
    "    \n",
    "    def to_xyminmax(self)->np.ndarray:\n",
    "        xywh = self.x, self.y, self.w, self.h\n",
    "        xymm = boxes_ops.xywh_to_xymm(xywh)\n",
    "        return xymm\n",
    "    \n",
    "    def to_list(self):\n",
    "        return [self.x, self.y, self.w, self.h]\n",
    "    \n",
    "    def copy(self)->\"BBox\":\n",
    "        return BBox(self.x, self.y, self.w, self.h)\n",
    "    \n",
    "\n",
    "\n",
    "    \n",
    "\n",
    "    "
   ]
  },
  {
   "cell_type": "code",
   "execution_count": 14,
   "id": "cead6499-1179-4298-aa64-c8ceca928561",
   "metadata": {},
   "outputs": [],
   "source": [
    "bbox = BBox(20,10,100,100)"
   ]
  },
  {
   "cell_type": "code",
   "execution_count": 15,
   "id": "644f35bc-18f0-4672-a965-2fb0fd79090e",
   "metadata": {},
   "outputs": [
    {
     "data": {
      "text/plain": [
       "array([[ 20,  10],\n",
       "       [120,  10],\n",
       "       [120, 110],\n",
       "       [ 20, 110]])"
      ]
     },
     "execution_count": 15,
     "metadata": {},
     "output_type": "execute_result"
    }
   ],
   "source": [
    "bbox.to_coordinate()"
   ]
  },
  {
   "cell_type": "code",
   "execution_count": null,
   "id": "72486984-4259-405c-9b96-12a522e9cc2d",
   "metadata": {},
   "outputs": [],
   "source": []
  },
  {
   "cell_type": "code",
   "execution_count": null,
   "id": "21c7b131-8aa9-4adc-b0c7-643d0ab4f57e",
   "metadata": {},
   "outputs": [],
   "source": []
  }
 ],
 "metadata": {
  "kernelspec": {
   "display_name": "Python 3 (ipykernel)",
   "language": "python",
   "name": "python3"
  },
  "language_info": {
   "codemirror_mode": {
    "name": "ipython",
    "version": 3
   },
   "file_extension": ".py",
   "mimetype": "text/x-python",
   "name": "python",
   "nbconvert_exporter": "python",
   "pygments_lexer": "ipython3",
   "version": "3.8.8"
  }
 },
 "nbformat": 4,
 "nbformat_minor": 5
}
