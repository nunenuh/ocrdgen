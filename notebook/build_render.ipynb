{
 "cells": [
  {
   "cell_type": "code",
   "execution_count": 1,
   "id": "461c7f3c-e080-4313-89fa-ce4cb44925d2",
   "metadata": {},
   "outputs": [],
   "source": [
    "%load_ext autoreload\n",
    "%autoreload 2\n",
    "%matplotlib inline"
   ]
  },
  {
   "cell_type": "code",
   "execution_count": 2,
   "id": "24f17b03-a62b-4003-b2c7-7d26557df1f5",
   "metadata": {},
   "outputs": [],
   "source": [
    "from ocrdgen.font.font import FontManager\n",
    "from ocrdgen.image.background import BgManager\n",
    "from pathlib import Path\n",
    "import numpy as np\n",
    "from PIL import ImageDraw, Image\n",
    "from ocrdgen.ops import boxes_ops\n",
    "import cv2 as cv\n",
    "# from collections import OrderedDict"
   ]
  },
  {
   "cell_type": "code",
   "execution_count": 3,
   "id": "e7b41382-7e30-4dc0-912a-1700fb52f95b",
   "metadata": {},
   "outputs": [],
   "source": [
    "from ocrdgen.drawer import BaseDrawer, WordDrawer, TextDrawer\n",
    "from ocrdgen.template import FormTextWrapper, FreeTextWrapper\n",
    "from ocrdgen.template.loader import TemplateLoader, FormTemplateLoader"
   ]
  },
  {
   "cell_type": "code",
   "execution_count": 4,
   "id": "ecb19290-5148-4d17-a669-b3fbba4520db",
   "metadata": {},
   "outputs": [],
   "source": [
    "fm = FontManager(font_dir=Path('data/font/font_files'), font_list_file=Path('data/font/font_list.txt'), font_size=50)\n",
    "bgm = BgManager(bg_dir=Path('data/bg/'))"
   ]
  },
  {
   "cell_type": "code",
   "execution_count": 5,
   "id": "a83b725d-90d4-4179-8ac1-464ea5350912",
   "metadata": {},
   "outputs": [],
   "source": [
    "formtpl = FormTemplateLoader('data/template/form.yaml')"
   ]
  },
  {
   "cell_type": "code",
   "execution_count": 6,
   "id": "e9a040bc-30e4-4911-9d50-0b4a6c741335",
   "metadata": {},
   "outputs": [
    {
     "data": {
      "text/plain": [
       "dict_keys(['template', 'default_setting', 'objects'])"
      ]
     },
     "execution_count": 6,
     "metadata": {},
     "output_type": "execute_result"
    }
   ],
   "source": [
    "formtpl.config.keys()"
   ]
  },
  {
   "cell_type": "code",
   "execution_count": 7,
   "id": "5ed6b629-0553-48f0-9fb1-8758e641fe95",
   "metadata": {},
   "outputs": [
    {
     "data": {
      "text/plain": [
       "{'type': 'form', 'name': 'form'}"
      ]
     },
     "execution_count": 7,
     "metadata": {},
     "output_type": "execute_result"
    }
   ],
   "source": [
    "formtpl.config['template']"
   ]
  },
  {
   "cell_type": "code",
   "execution_count": 14,
   "id": "b5408dda-01cf-4db5-ae8c-3eee51508eec",
   "metadata": {},
   "outputs": [
    {
     "data": {
      "text/plain": [
       "DefaultSetting(image=ImageSetting(type='fixed', root='', filenames=[''], size=[1280, 720], mode={'resize': True, 'crop': True}), margin=MarginSetting(type='pixel', top=10, bottom=10, right=10, left=10), font=FontSetting(type='fixed', root='', filenames=['arial.ttf'], size=15, encoding='', variant=None), text=TextSetting(align='left', spacing=4, fill=None, stroke_width=0, stroke_fill=None, anchor=None))"
      ]
     },
     "execution_count": 14,
     "metadata": {},
     "output_type": "execute_result"
    }
   ],
   "source": [
    "formtpl.default_setting()"
   ]
  },
  {
   "cell_type": "code",
   "execution_count": 23,
   "id": "feffd8b6-41b9-4fb1-a7a0-82ab99d34ee3",
   "metadata": {},
   "outputs": [
    {
     "data": {
      "text/plain": [
       "{'position': {'xy': '(100, 5)'},\n",
       " 'linked': ['nik_field', 'nik_value'],\n",
       " 'text': 'NIK',\n",
       " 'label': 'question',\n",
       " 'classname': '',\n",
       " 'tyoe': 'text'}"
      ]
     },
     "execution_count": 23,
     "metadata": {},
     "output_type": "execute_result"
    }
   ],
   "source": [
    "names = list(formtpl.config['objects'].keys())\n",
    "formtpl.config.get('objects').get(names[0])"
   ]
  },
  {
   "cell_type": "code",
   "execution_count": 103,
   "id": "742a8245-b954-4bbf-8bac-b87733674902",
   "metadata": {},
   "outputs": [
    {
     "data": {
      "text/plain": [
       "{'nik_field': {'position': {'xy': '(100, 5)'},\n",
       "  'linked': ['nik_field', 'nik_value'],\n",
       "  'text': 'NIK',\n",
       "  'label': 'question',\n",
       "  'classname': '',\n",
       "  'tyoe': 'text'},\n",
       " 'nik_value': {'position': {'xy': '(100, 5)', 'width': 100, 'height': 100},\n",
       "  'linked': ['nik_field', 'nik_value'],\n",
       "  'text': '082816517241',\n",
       "  'label': 'answer',\n",
       "  'type': 'text'}}"
      ]
     },
     "execution_count": 103,
     "metadata": {},
     "output_type": "execute_result"
    }
   ],
   "source": [
    "formtpl.config['objects']"
   ]
  },
  {
   "cell_type": "code",
   "execution_count": 107,
   "id": "18944f7b-1823-4b72-999f-8bc5162c10dd",
   "metadata": {},
   "outputs": [],
   "source": [
    "class RenderData:\n",
    "    def __init__(self):\n",
    "        pass\n",
    "    \n",
    "    def get_data(self):\n",
    "        pass\n",
    "    \n",
    "    def get_template(self):\n",
    "        pass\n",
    "    \n",
    "    def build(self):\n",
    "        pass\n",
    "    \n",
    "    def get(self):\n",
    "        pass\n",
    "\n",
    "    \n",
    "    "
   ]
  },
  {
   "cell_type": "code",
   "execution_count": 106,
   "id": "153af9bc-e5ba-496e-bd25-4400df179c88",
   "metadata": {},
   "outputs": [
    {
     "data": {
      "text/plain": [
       "1600"
      ]
     },
     "execution_count": 106,
     "metadata": {},
     "output_type": "execute_result"
    }
   ],
   "source": [
    "20 * 20 * 4"
   ]
  },
  {
   "cell_type": "code",
   "execution_count": null,
   "id": "fef96676-098b-49e2-9857-36a334f323e4",
   "metadata": {},
   "outputs": [],
   "source": []
  }
 ],
 "metadata": {
  "kernelspec": {
   "display_name": "Python 3 (ipykernel)",
   "language": "python",
   "name": "python3"
  },
  "language_info": {
   "codemirror_mode": {
    "name": "ipython",
    "version": 3
   },
   "file_extension": ".py",
   "mimetype": "text/x-python",
   "name": "python",
   "nbconvert_exporter": "python",
   "pygments_lexer": "ipython3",
   "version": "3.8.8"
  }
 },
 "nbformat": 4,
 "nbformat_minor": 5
}
