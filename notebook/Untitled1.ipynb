{
 "cells": [
  {
   "cell_type": "code",
   "execution_count": 491,
   "id": "d7b0086c-8e70-4a65-99d7-e2a5023aa4e2",
   "metadata": {},
   "outputs": [
    {
     "name": "stdout",
     "output_type": "stream",
     "text": [
      "The autoreload extension is already loaded. To reload it, use:\n",
      "  %reload_ext autoreload\n"
     ]
    }
   ],
   "source": [
    "%load_ext autoreload\n",
    "%autoreload 2\n",
    "%matplotlib inline"
   ]
  },
  {
   "cell_type": "code",
   "execution_count": 492,
   "id": "bf8d2262-8bb2-41f2-9c98-52fa21708ae2",
   "metadata": {},
   "outputs": [],
   "source": [
    "from ocrdgen.data.loader import TxtLoader, CSVLoader"
   ]
  },
  {
   "cell_type": "code",
   "execution_count": 493,
   "id": "f792e9e1-128e-49e5-bffa-72a070bb1a2d",
   "metadata": {},
   "outputs": [],
   "source": [
    "tloader = TxtLoader('data/test_text.txt')"
   ]
  },
  {
   "cell_type": "code",
   "execution_count": 494,
   "id": "849252ca-2bbc-40ee-aac9-e370e1bfd254",
   "metadata": {},
   "outputs": [
    {
     "data": {
      "text/plain": [
       "'hai|taa'"
      ]
     },
     "execution_count": 494,
     "metadata": {},
     "output_type": "execute_result"
    }
   ],
   "source": [
    "tloader[0]"
   ]
  },
  {
   "cell_type": "code",
   "execution_count": 495,
   "id": "067b1282-1b97-43a9-9981-3002ee0e79c8",
   "metadata": {},
   "outputs": [],
   "source": [
    "test = \"test\""
   ]
  },
  {
   "cell_type": "code",
   "execution_count": 496,
   "id": "ae86680a-5184-4948-a9d0-f0b6933dc501",
   "metadata": {},
   "outputs": [
    {
     "data": {
      "text/plain": [
       "'test'"
      ]
     },
     "execution_count": 496,
     "metadata": {},
     "output_type": "execute_result"
    }
   ],
   "source": [
    "test.strip(\"\\n\")"
   ]
  },
  {
   "cell_type": "code",
   "execution_count": null,
   "id": "2c49d3f6-27bd-4153-ae2c-989b66d4f305",
   "metadata": {},
   "outputs": [],
   "source": []
  },
  {
   "cell_type": "code",
   "execution_count": 497,
   "id": "707fa8c9-82a5-46b1-b355-aeddbe19f80c",
   "metadata": {},
   "outputs": [],
   "source": [
    "cload = CSVLoader('data/csv_data.csv')"
   ]
  },
  {
   "cell_type": "code",
   "execution_count": 498,
   "id": "0614eb3b-ad14-4030-9c60-13e35dfce96d",
   "metadata": {},
   "outputs": [
    {
     "data": {
      "text/plain": [
       "'csv'"
      ]
     },
     "execution_count": 498,
     "metadata": {},
     "output_type": "execute_result"
    }
   ],
   "source": [
    "cload.filepath.suffix.strip(\".\")"
   ]
  },
  {
   "cell_type": "code",
   "execution_count": 499,
   "id": "8cfdb3b0-e0bf-49bc-ab02-0df960b80473",
   "metadata": {},
   "outputs": [
    {
     "data": {
      "text/plain": [
       "'mataram'"
      ]
     },
     "execution_count": 499,
     "metadata": {},
     "output_type": "execute_result"
    }
   ],
   "source": [
    "cload[0].alamat"
   ]
  },
  {
   "cell_type": "code",
   "execution_count": 501,
   "id": "ac7335f7-b65d-4eec-8371-66fbaba50eaa",
   "metadata": {},
   "outputs": [],
   "source": [
    "from ocrdgen.template import *\n",
    "from ocrdgen.template.loader import *"
   ]
  },
  {
   "cell_type": "code",
   "execution_count": 502,
   "id": "8f8a83a0-328f-4dd9-aac0-006b4017221b",
   "metadata": {},
   "outputs": [
    {
     "name": "stdout",
     "output_type": "stream",
     "text": [
      "<ocrdgen.template.loader.FontSettingLoader object at 0x7f36743f4640>\n",
      "<ocrdgen.template.loader.FontSettingLoader object at 0x7f36743f4ac0>\n"
     ]
    }
   ],
   "source": [
    "fmtpl = FreeTextTemplateLoader('data/example/formtext/form_tpl.yaml')"
   ]
  },
  {
   "cell_type": "code",
   "execution_count": 505,
   "id": "d8b23395-b1af-45bc-b0a0-1472794d904c",
   "metadata": {},
   "outputs": [
    {
     "data": {
      "text/plain": [
       "GeneralSetting(image=GeneralImageSetting(type='random', root='data/example/formtext/background/', extension=['png', 'jpg', 'jpeg'], filenames=['mat-reding-ozN7sC1aGsk-unsplash.jpg', 'boris-dunand-cGx58nNgE94-unsplash.jpg'], filename=None, files=['data/example/formtext/background/mat-reding-ozN7sC1aGsk-unsplash.jpg', 'data/example/formtext/background/boris-dunand-cGx58nNgE94-unsplash.jpg'], size=[1280, 720], mode={'resize': True, 'crop': True}), margin=GeneralMarginSetting(type='pixel', top=10, bottom=10, right=10, left=10), font=GeneralFontSetting(type='fixed', root='data/example/formtext/fonts/', extension=['ttf', 'otf'], files=['data/example/formtext/fonts/arial.ttf'], filenames=None, filename='arial.ttf', size=15, encoding='', variant=None), text=GeneralTextSetting(align='left', spacing=4, fill=None, stroke_width=0, stroke_fill=None, anchor=None))"
      ]
     },
     "execution_count": 505,
     "metadata": {},
     "output_type": "execute_result"
    }
   ],
   "source": [
    "fmtpl.setting"
   ]
  },
  {
   "cell_type": "code",
   "execution_count": 413,
   "id": "8b2bfa9d-57da-410e-ac7b-b551038a6b3c",
   "metadata": {},
   "outputs": [],
   "source": [
    "# objects = fmtpl.objects()"
   ]
  },
  {
   "cell_type": "code",
   "execution_count": 414,
   "id": "f6c50aa0-598c-4f9a-b9a4-0ca815cfe468",
   "metadata": {},
   "outputs": [
    {
     "data": {
      "text/plain": [
       "{'type': 'text',\n",
       " 'name': 'nik_value',\n",
       " 'text': '082816517241',\n",
       " 'position': {'x': 0, 'y': 0, 'xy': [100, 5], 'width': 100, 'height': 100},\n",
       " 'font_setting': {'filename': 'ocr-a.ttf',\n",
       "  'size': 15,\n",
       "  'path': 'data/example/formtext/fonts/'},\n",
       " 'text_setting': {'align': 'left',\n",
       "  'spacing': 4,\n",
       "  'fill': None,\n",
       "  'stroke_width': 0,\n",
       "  'stroke_fill': None,\n",
       "  'anchor': None},\n",
       " 'label': 'answer',\n",
       " 'classname': '',\n",
       " 'linked': ['nik_field', 'nik_value']}"
      ]
     },
     "execution_count": 414,
     "metadata": {},
     "output_type": "execute_result"
    }
   ],
   "source": [
    "objects[1].dict()"
   ]
  },
  {
   "cell_type": "code",
   "execution_count": null,
   "id": "fdf91672-2b4c-4b3f-a837-18a4edab7266",
   "metadata": {},
   "outputs": [],
   "source": []
  },
  {
   "cell_type": "code",
   "execution_count": 415,
   "id": "d10e21f6-90a0-479d-bcd3-e41fbf738150",
   "metadata": {},
   "outputs": [],
   "source": [
    "from ocrdgen.models.template import *"
   ]
  },
  {
   "cell_type": "code",
   "execution_count": null,
   "id": "9b598fd5-84e8-4efc-b1e0-f901d18a913b",
   "metadata": {},
   "outputs": [],
   "source": []
  },
  {
   "cell_type": "code",
   "execution_count": 416,
   "id": "42fff9e3-3ebf-4885-8589-e016999e8764",
   "metadata": {},
   "outputs": [
    {
     "name": "stdout",
     "output_type": "stream",
     "text": [
      "{'type': 'text', 'position': {'xy': [100, 100]}, 'text': 'NIK', 'label': 'question', 'classname': '', 'subclass': '', 'linked': ['nik_field', 'nik_value'], 'font_setting': {'size': 15}, 'text_setting': {'align': 'normal', 'handling': 'normal', 'fill': None}}\n"
     ]
    },
    {
     "ename": "ValidationError",
     "evalue": "1 validation error for FontSetting\nfilename\n  field required (type=value_error.missing)",
     "output_type": "error",
     "traceback": [
      "\u001b[0;31m---------------------------------------------------------------------------\u001b[0m",
      "\u001b[0;31mValidationError\u001b[0m                           Traceback (most recent call last)",
      "\u001b[1;32m/workspace/repo/ocrdgen/notebook/Untitled1.ipynb Cell 19'\u001b[0m in \u001b[0;36m<cell line: 3>\u001b[0;34m()\u001b[0m\n\u001b[1;32m     <a href='vscode-notebook-cell:/workspace/repo/ocrdgen/notebook/Untitled1.ipynb#ch0000018?line=12'>13</a>\u001b[0m     pos \u001b[39m=\u001b[39m Position(\u001b[39m*\u001b[39m\u001b[39m*\u001b[39mpos)\n\u001b[1;32m     <a href='vscode-notebook-cell:/workspace/repo/ocrdgen/notebook/Untitled1.ipynb#ch0000018?line=14'>15</a>\u001b[0m \u001b[39mif\u001b[39;00m font_setting\u001b[39m!=\u001b[39m\u001b[39mNone\u001b[39;00m:\n\u001b[0;32m---> <a href='vscode-notebook-cell:/workspace/repo/ocrdgen/notebook/Untitled1.ipynb#ch0000018?line=15'>16</a>\u001b[0m     font_setting \u001b[39m=\u001b[39m FontSetting(\u001b[39m*\u001b[39;49m\u001b[39m*\u001b[39;49mfont_setting)\n\u001b[1;32m     <a href='vscode-notebook-cell:/workspace/repo/ocrdgen/notebook/Untitled1.ipynb#ch0000018?line=17'>18</a>\u001b[0m     \u001b[39mprint\u001b[39m(font_setting\u001b[39m.\u001b[39mdict())        \n\u001b[1;32m     <a href='vscode-notebook-cell:/workspace/repo/ocrdgen/notebook/Untitled1.ipynb#ch0000018?line=19'>20</a>\u001b[0m \u001b[39mif\u001b[39;00m text_setting\u001b[39m!=\u001b[39m\u001b[39mNone\u001b[39;00m:\n",
      "File \u001b[0;32m/workspace/repo/ocrdgen/venv/lib/python3.8/site-packages/pydantic/main.py:331\u001b[0m, in \u001b[0;36mpydantic.main.BaseModel.__init__\u001b[0;34m()\u001b[0m\n",
      "\u001b[0;31mValidationError\u001b[0m: 1 validation error for FontSetting\nfilename\n  field required (type=value_error.missing)"
     ]
    }
   ],
   "source": [
    "keys = list(fmtpl.config['objects'].keys())\n",
    "\n",
    "for key in keys:\n",
    "    text_object = fmtpl.config['objects'].get(key)\n",
    "    \n",
    "    print(text_object)\n",
    "    \n",
    "    pos = text_object.get(\"position\", None)\n",
    "    font_setting = text_object.get(\"font_setting\", None)\n",
    "    text_setting = text_object.get(\"text_setting\", None)\n",
    "    \n",
    "    if pos!=None:\n",
    "        pos = Position(**pos)\n",
    "    \n",
    "    if font_setting!=None:\n",
    "        font_setting = FontSetting(**font_setting)\n",
    "        \n",
    "        print(font_setting.dict())        \n",
    "        \n",
    "    if text_setting!=None:\n",
    "        text_setting = TextSetting(**text_setting)\n",
    "    \n",
    "        print(text_setting.dict())"
   ]
  },
  {
   "cell_type": "code",
   "execution_count": null,
   "id": "e07eb0e5-be9e-4058-b280-ba8694533f2c",
   "metadata": {},
   "outputs": [],
   "source": []
  },
  {
   "cell_type": "code",
   "execution_count": null,
   "id": "a1f1a742-cee1-4fa8-a6a3-f45ebb88cf40",
   "metadata": {},
   "outputs": [],
   "source": []
  }
 ],
 "metadata": {
  "kernelspec": {
   "display_name": "Python 3 (ipykernel)",
   "language": "python",
   "name": "python3"
  },
  "language_info": {
   "codemirror_mode": {
    "name": "ipython",
    "version": 3
   },
   "file_extension": ".py",
   "mimetype": "text/x-python",
   "name": "python",
   "nbconvert_exporter": "python",
   "pygments_lexer": "ipython3",
   "version": "3.8.8"
  }
 },
 "nbformat": 4,
 "nbformat_minor": 5
}
