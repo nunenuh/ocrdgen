{
 "cells": [
  {
   "cell_type": "code",
   "execution_count": 2,
   "id": "0201b79a-07df-4bc0-aadc-03726ee56385",
   "metadata": {},
   "outputs": [],
   "source": [
    "%load_ext autoreload\n",
    "%autoreload 2\n",
    "%matplotlib inline"
   ]
  },
  {
   "cell_type": "code",
   "execution_count": 3,
   "id": "a73aca81-79ca-464a-ae1a-4988ebffdbc4",
   "metadata": {},
   "outputs": [],
   "source": [
    "from yaml import load, dump\n",
    "import yaml\n",
    "try:\n",
    "    from yaml import CLoader as Loader, CDumper as Dumper\n",
    "except ImportError:\n",
    "    from yaml import Loader, Dumper\n"
   ]
  },
  {
   "cell_type": "code",
   "execution_count": 4,
   "id": "108eda1b-525d-4309-83d2-2031a42cb103",
   "metadata": {},
   "outputs": [],
   "source": [
    "yaml_file = 'data/template/form.yaml'"
   ]
  },
  {
   "cell_type": "code",
   "execution_count": 5,
   "id": "5d6d1ab5-8f33-4570-9fee-81960943f759",
   "metadata": {},
   "outputs": [],
   "source": [
    "with open(yaml_file, 'r') as file:\n",
    "    config = yaml.safe_load(file)"
   ]
  },
  {
   "cell_type": "code",
   "execution_count": 6,
   "id": "2b983ffd-3180-48c5-94f0-55fab9bea468",
   "metadata": {},
   "outputs": [
    {
     "data": {
      "text/plain": [
       "{'template': {'type': 'form', 'name': 'form'},\n",
       " 'default_setting': {'image': {'type': 'fixed',\n",
       "   'root': '',\n",
       "   'filenames': [''],\n",
       "   'size': [1280, 720],\n",
       "   'mode': {'resize': True, 'crop': True}},\n",
       "  'margin': {'type': 'pixel',\n",
       "   'value': {'top': 10, 'bottom': 10, 'right': 10, 'left': 10}},\n",
       "  'font': {'type': 'fixed',\n",
       "   'root': '',\n",
       "   'filenames': ['arial.ttf'],\n",
       "   'size': 15,\n",
       "   'encoding': '',\n",
       "   'variant': None},\n",
       "  'text': {'align': 'left',\n",
       "   'spacing': 4,\n",
       "   'fill': 'None',\n",
       "   'stroke_width': 0,\n",
       "   'stroke_fill': 'None',\n",
       "   'anchor': 'None'},\n",
       "  'text_group_objects': {'text_group1': {'position': {'xy': '(100, 5)',\n",
       "     'width': 100,\n",
       "     'height': 100},\n",
       "    'font': {'type': 'fixed',\n",
       "     'root': '',\n",
       "     'filenames': ['arial.ttf'],\n",
       "     'size': 15,\n",
       "     'encoding': '',\n",
       "     'variant': 'None'},\n",
       "    'text': {'align': 'left',\n",
       "     'spacing': 4,\n",
       "     'fill': 'None',\n",
       "     'stroke_width': 0,\n",
       "     'stroke_fill': 'None',\n",
       "     'anchor': 'None'}}}},\n",
       " 'text_objects': {'text_object1': {'position': {'xy': [100, 10],\n",
       "    'size': [10, 10]},\n",
       "   'font': {'type': 'fixed',\n",
       "    'root': '',\n",
       "    'filenames': ['arial.ttf'],\n",
       "    'size': 15,\n",
       "    'encoding': '',\n",
       "    'variant': 'None'},\n",
       "   'text': {'align': 'left',\n",
       "    'spacing': 4,\n",
       "    'fill': 'None',\n",
       "    'stroke_width': 0,\n",
       "    'stroke_fill': 'None',\n",
       "    'anchor': 'None'}}}}"
      ]
     },
     "execution_count": 6,
     "metadata": {},
     "output_type": "execute_result"
    }
   ],
   "source": [
    "config"
   ]
  },
  {
   "cell_type": "code",
   "execution_count": 7,
   "id": "c1c3d3fa-297f-44d2-8116-982adf5c0064",
   "metadata": {},
   "outputs": [],
   "source": [
    "\n",
    "from abc import ABC, abstractmethod\n",
    "\n",
    "class BaseWrapper:\n",
    "    def __init__(self, file):\n",
    "        self.config = self._load(file)\n",
    "    \n",
    "    def _load(self, file):\n",
    "        with open(file, 'r') as file:\n",
    "            config = yaml.safe_load(file)\n",
    "        return config\n",
    "    \n",
    "    @abstractmethod\n",
    "    def _template_type_check(self):\n",
    "        pass\n",
    "    \n",
    "    @abstractmethod\n",
    "    def _default_setting_check(self):\n",
    "        pass\n",
    "\n",
    "class FormWrapper(BaseWrapper):\n",
    "    def __init__(self, file):\n",
    "        super().__init__(file)\n",
    "        \n",
    "    def _template_type_check(self):\n",
    "        pass\n",
    "    \n",
    "    def _default_setting_check(self):\n",
    "        pass"
   ]
  },
  {
   "cell_type": "code",
   "execution_count": 8,
   "id": "4955f11e-33c1-4c00-9229-ef138d6d2a42",
   "metadata": {},
   "outputs": [],
   "source": [
    "yaml_file = 'data/template/form.yaml'\n",
    "fw = FormWrapper(yaml_file)"
   ]
  },
  {
   "cell_type": "code",
   "execution_count": 11,
   "id": "f14fd62f-a1b7-452e-9de9-708f05310e2a",
   "metadata": {},
   "outputs": [
    {
     "data": {
      "text/plain": [
       "{'template': {'type': 'form', 'name': 'form'},\n",
       " 'default_setting': {'image': {'type': 'fixed',\n",
       "   'root': '',\n",
       "   'filenames': [''],\n",
       "   'size': [1280, 720],\n",
       "   'mode': {'resize': True, 'crop': True}},\n",
       "  'margin': {'type': 'pixel',\n",
       "   'value': {'top': 10, 'bottom': 10, 'right': 10, 'left': 10}},\n",
       "  'font': {'type': 'fixed',\n",
       "   'root': '',\n",
       "   'filenames': ['arial.ttf'],\n",
       "   'size': 15,\n",
       "   'encoding': '',\n",
       "   'variant': None},\n",
       "  'text': {'align': 'left',\n",
       "   'spacing': 4,\n",
       "   'fill': 'None',\n",
       "   'stroke_width': 0,\n",
       "   'stroke_fill': 'None',\n",
       "   'anchor': 'None'},\n",
       "  'text_group_objects': {'text_group1': {'position': {'xy': '(100, 5)',\n",
       "     'width': 100,\n",
       "     'height': 100},\n",
       "    'font': {'type': 'fixed',\n",
       "     'root': '',\n",
       "     'filenames': ['arial.ttf'],\n",
       "     'size': 15,\n",
       "     'encoding': '',\n",
       "     'variant': 'None'},\n",
       "    'text': {'align': 'left',\n",
       "     'spacing': 4,\n",
       "     'fill': 'None',\n",
       "     'stroke_width': 0,\n",
       "     'stroke_fill': 'None',\n",
       "     'anchor': 'None'}}}},\n",
       " 'text_objects': {'text_object1': {'position': {'xy': [100, 10],\n",
       "    'size': [10, 10]},\n",
       "   'font': {'type': 'fixed',\n",
       "    'root': '',\n",
       "    'filenames': ['arial.ttf'],\n",
       "    'size': 15,\n",
       "    'encoding': '',\n",
       "    'variant': 'None'},\n",
       "   'text': {'align': 'left',\n",
       "    'spacing': 4,\n",
       "    'fill': 'None',\n",
       "    'stroke_width': 0,\n",
       "    'stroke_fill': 'None',\n",
       "    'anchor': 'None'}}}}"
      ]
     },
     "execution_count": 11,
     "metadata": {},
     "output_type": "execute_result"
    }
   ],
   "source": [
    "fw.config"
   ]
  },
  {
   "cell_type": "code",
   "execution_count": 10,
   "id": "864a9a00-37e2-4023-be2c-4e301c79693b",
   "metadata": {},
   "outputs": [
    {
     "name": "stdout",
     "output_type": "stream",
     "text": [
      "Requirement already satisfied: pydantic in /workspace/study/code/repo/ocrdgen/venv/lib/python3.8/site-packages (1.9.0)\n",
      "Requirement already satisfied: typing-extensions>=3.7.4.3 in /workspace/study/code/repo/ocrdgen/venv/lib/python3.8/site-packages (from pydantic) (4.2.0)\n",
      "\u001b[33mWARNING: You are using pip version 20.2.3; however, version 22.0.4 is available.\n",
      "You should consider upgrading via the '/workspace/study/code/repo/ocrdgen/venv/bin/python -m pip install --upgrade pip' command.\u001b[0m\n"
     ]
    }
   ],
   "source": [
    "!pip install pydantic"
   ]
  },
  {
   "cell_type": "code",
   "execution_count": null,
   "id": "a27f02a9-55cd-4075-9335-2864eb896e9e",
   "metadata": {},
   "outputs": [],
   "source": []
  }
 ],
 "metadata": {
  "kernelspec": {
   "display_name": "Python 3 (ipykernel)",
   "language": "python",
   "name": "python3"
  },
  "language_info": {
   "codemirror_mode": {
    "name": "ipython",
    "version": 3
   },
   "file_extension": ".py",
   "mimetype": "text/x-python",
   "name": "python",
   "nbconvert_exporter": "python",
   "pygments_lexer": "ipython3",
   "version": "3.8.8"
  }
 },
 "nbformat": 4,
 "nbformat_minor": 5
}
